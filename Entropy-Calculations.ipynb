{
 "cells": [
  {
   "cell_type": "markdown",
   "metadata": {},
   "source": [
    "# Entropy of a Geo-Location"
   ]
  },
  {
   "cell_type": "markdown",
   "metadata": {},
   "source": [
    "# About the Data"
   ]
  },
  {
   "cell_type": "raw",
   "metadata": {},
   "source": [
    "We are using Flickr User-POI Visits Dataset: \n",
    "URL: https://sites.google.com/site/limkwanhui/datacode\n",
    "This dataset comprises a set of users and their visits to various points-of-interests (POIs) in eight cities. The user-POI visits are determined based on geo-tagged YFCC100M Flickr photos that are: (i) mapped to specific POIs location and POI categories; and (ii) grouped into individual travel sequences (consecutive user-POI visits that differ by <8hrs). Other associated datasets are the \"List of POIs\" dataset (\"POI-{cityName}.csv\" files from \"poiList-ijcai15.zip\") and \"POI Cost-Profit Table\" dataset (\"costProfCat-{cityName}POI-all.csv\" files from \"costProf-ijcai15.zip\").\n",
    "\n",
    "File Description and Dataset Statistics:\n",
    "\n",
    "All user-POI visits in each city are stored in a single csv file that contains the following columns/fields:\n",
    "\n",
    "- photoID: identifier of the photo based on Flickr.\n",
    "\n",
    "- userID: identifier of the user based on Flickr.\n",
    "\n",
    "- dateTaken: the date/time that the photo was taken (unix timestamp format).\n",
    "\n",
    "- poiID: identifier of the place-of-interest (Flickr photos are mapped to POIs based on their lat/long).\n",
    "\n",
    "- poiTheme: category of the POI (e.g., Park, Museum, Cultural, etc).\n",
    "\n",
    "- poiFreq: number of times this POI has been visited.\n",
    "\n",
    "- seqID: travel sequence no. (consecutive POI visits by the same user that differ by <8hrs are grouped as one travel sequence).\n"
   ]
  },
  {
   "cell_type": "markdown",
   "metadata": {},
   "source": [
    "# Data Loading"
   ]
  },
  {
   "cell_type": "raw",
   "metadata": {},
   "source": [
    "First lets read the csv file. Here we are using userVisits-Buda-allPOI.csv file. We can use other files too from userVisits-ijcai15 folder"
   ]
  },
  {
   "cell_type": "code",
   "execution_count": 1,
   "metadata": {},
   "outputs": [
    {
     "data": {
      "text/html": [
       "<div>\n",
       "<style scoped>\n",
       "    .dataframe tbody tr th:only-of-type {\n",
       "        vertical-align: middle;\n",
       "    }\n",
       "\n",
       "    .dataframe tbody tr th {\n",
       "        vertical-align: top;\n",
       "    }\n",
       "\n",
       "    .dataframe thead th {\n",
       "        text-align: right;\n",
       "    }\n",
       "</style>\n",
       "<table border=\"1\" class=\"dataframe\">\n",
       "  <thead>\n",
       "    <tr style=\"text-align: right;\">\n",
       "      <th></th>\n",
       "      <th>photoID;\"userID\";\"dateTaken\";\"poiID\";\"poiTheme\";\"poiFreq\";\"seqID\"</th>\n",
       "    </tr>\n",
       "  </thead>\n",
       "  <tbody>\n",
       "    <tr>\n",
       "      <th>0</th>\n",
       "      <td>7941504100;\"10007579@N00\";1346844688;30;\"Struc...</td>\n",
       "    </tr>\n",
       "    <tr>\n",
       "      <th>1</th>\n",
       "      <td>4886005532;\"10012675@N05\";1142731848;6;\"Cultur...</td>\n",
       "    </tr>\n",
       "    <tr>\n",
       "      <th>2</th>\n",
       "      <td>4886006468;\"10012675@N05\";1142732248;6;\"Cultur...</td>\n",
       "    </tr>\n",
       "    <tr>\n",
       "      <th>3</th>\n",
       "      <td>4885404441;\"10012675@N05\";1142732373;6;\"Cultur...</td>\n",
       "    </tr>\n",
       "    <tr>\n",
       "      <th>4</th>\n",
       "      <td>4886008334;\"10012675@N05\";1142732445;6;\"Cultur...</td>\n",
       "    </tr>\n",
       "  </tbody>\n",
       "</table>\n",
       "</div>"
      ],
      "text/plain": [
       "  photoID;\"userID\";\"dateTaken\";\"poiID\";\"poiTheme\";\"poiFreq\";\"seqID\"\n",
       "0  7941504100;\"10007579@N00\";1346844688;30;\"Struc...               \n",
       "1  4886005532;\"10012675@N05\";1142731848;6;\"Cultur...               \n",
       "2  4886006468;\"10012675@N05\";1142732248;6;\"Cultur...               \n",
       "3  4885404441;\"10012675@N05\";1142732373;6;\"Cultur...               \n",
       "4  4886008334;\"10012675@N05\";1142732445;6;\"Cultur...               "
      ]
     },
     "execution_count": 1,
     "metadata": {},
     "output_type": "execute_result"
    }
   ],
   "source": [
    "import pandas as pd \n",
    "import numpy as np\n",
    "import math\n",
    "#data = pd.read_csv(\"userVisits-ijcai15/userVisits-Buda-allPOI.csv\") #We can also choose other csv file for the testing e.g., UserVisits-Toro\n",
    "#data look like this\n",
    "data = pd.read_csv(\"userVisits-ijcai15/userVisits-Toro.csv\")\n",
    "data.head()"
   ]
  },
  {
   "cell_type": "raw",
   "metadata": {},
   "source": [
    "We are now taking out the parameters of our use i.e., poiID, poiFreq, userID. "
   ]
  },
  {
   "cell_type": "code",
   "execution_count": 2,
   "metadata": {},
   "outputs": [],
   "source": [
    "userId = list()\n",
    "poiID = list()\n",
    "poiFreq = list()\n",
    "for d in data['photoID;\"userID\";\"dateTaken\";\"poiID\";\"poiTheme\";\"poiFreq\";\"seqID\"']:\n",
    "    d = d.split(\";\")\n",
    "    userId.append(d[1])\n",
    "    poiID.append(d[3])\n",
    "    poiFreq.append(float(d[5]))\n",
    "userId = np.asarray(userId)\n",
    "poiID = np.asarray(poiID)\n",
    "poiFreq = np.asarray(poiFreq)"
   ]
  },
  {
   "cell_type": "raw",
   "metadata": {},
   "source": [
    "We are calculating Shannon Entropy as per the formula. (For more refer:https://en.wiktionary.org/wiki/Shannon_entropy)"
   ]
  },
  {
   "cell_type": "code",
   "execution_count": 3,
   "metadata": {},
   "outputs": [],
   "source": [
    "def calculateEntropy(pId, poiID, userId, poiFreq):\n",
    "    l = np.sum(poiFreq[poiID==pId])\n",
    "    entropy = 0\n",
    "    for uId in userId[poiID==pId]:\n",
    "        c = np.sum(poiFreq[np.logical_and([poiID==pId], [userId==uId])[0]])\n",
    "        p = c/l\n",
    "        entropy = entropy+p*math.log2(p)\n",
    "    entropy = entropy*(-1)\n",
    "    return entropy"
   ]
  },
  {
   "cell_type": "code",
   "execution_count": 4,
   "metadata": {},
   "outputs": [
    {
     "data": {
      "text/plain": [
       "210.79507936710425"
      ]
     },
     "execution_count": 4,
     "metadata": {},
     "output_type": "execute_result"
    }
   ],
   "source": [
    "calculateEntropy(poiID[0], poiID, userId, poiFreq)"
   ]
  },
  {
   "cell_type": "code",
   "execution_count": null,
   "metadata": {},
   "outputs": [
    {
     "name": "stdout",
     "output_type": "stream",
     "text": [
      "location_id Entropy\n",
      "1 . 788.3122550483561\n",
      "10 . 97.95598454516757\n"
     ]
    }
   ],
   "source": [
    "print(\"location_id\", \"Entropy\")\n",
    "for pid in np.unique(poiID):\n",
    "    print(pid,\".\", calculateEntropy(pid, poiID, userId, poiFreq))"
   ]
  },
  {
   "cell_type": "code",
   "execution_count": null,
   "metadata": {},
   "outputs": [],
   "source": []
  }
 ],
 "metadata": {
  "kernelspec": {
   "display_name": "Python 3",
   "language": "python",
   "name": "python3"
  },
  "language_info": {
   "codemirror_mode": {
    "name": "ipython",
    "version": 3
   },
   "file_extension": ".py",
   "mimetype": "text/x-python",
   "name": "python",
   "nbconvert_exporter": "python",
   "pygments_lexer": "ipython3",
   "version": "3.7.0"
  }
 },
 "nbformat": 4,
 "nbformat_minor": 2
}
